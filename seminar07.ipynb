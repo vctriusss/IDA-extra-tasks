{
 "cells": [
  {
   "cell_type": "code",
   "execution_count": 4,
   "metadata": {},
   "outputs": [],
   "source": [
    "import os\n",
    "import re"
   ]
  },
  {
   "cell_type": "code",
   "execution_count": 5,
   "metadata": {},
   "outputs": [],
   "source": [
    "pattern1 = r\"[-\\w!#$%&\\'+=?^.]+@(?!(edu\\.)?hse\\.ru)[-\\w!#$%&\\';+=?^.]+\\.[-\\w!#$%&\\';+=?^.]+\"\n",
    "pattern1 = re.compile(pattern1)"
   ]
  },
  {
   "cell_type": "markdown",
   "metadata": {},
   "source": [
    "Исходя из https://www.ups.com/worldshiphelp/WSA/RUS/AppHelp/mergedProjects/CORE/TASKS/Validate_Email_Addresses.htm#:~:text=%D0%98%D0%BC%D1%8F%20%D0%BC%D0%BE%D0%B6%D0%B5%D1%82%20%D1%81%D0%BE%D1%81%D1%82%D0%BE%D1%8F%D1%82%D1%8C%20%D0%B8%D0%B7%20%D0%B1%D1%83%D0%BA%D0%B2,%D0%B7%D0%BD%D0%B0%D0%BA%D0%BE%D0%BC%20%D0%BC%D0%B8%D0%BD%D1%83%D1%81%D0%B0%2C%20%D0%B4%D0%B5%D1%84%D0%B8%D1%81%D0%BE%D0%BC%20%D0%B8%D0%BB%D0%B8%20%D1%82%D0%BE%D1%87%D0%BA%D0%BE%D0%B9, создал группу символов которые могут быть в emaile. Далее использовал negative lookup для проверки на наличие (edu.).hse.ru в адресе. Затем по аналогии с именем проверял домен."
   ]
  },
  {
   "cell_type": "markdown",
   "metadata": {},
   "source": [
    "Теперь скопируем таблицу в текстовом формате, полученную из curl, в новый тхт файлик"
   ]
  },
  {
   "cell_type": "code",
   "execution_count": 10,
   "metadata": {},
   "outputs": [],
   "source": [
    "os.system('curl --silent -L \"https://docs.google.com/spreadsheets/d/1VUACNvvtewTJZYF986zfNhNiLKQ1F_ubPgDMQygrBpA/export?gid=931303141&format=tsv\" > table.txt')\n",
    "\n",
    "with open('table.txt', 'r') as file:\n",
    "    text = file.readlines()\n"
   ]
  },
  {
   "cell_type": "markdown",
   "metadata": {},
   "source": [
    "Для проверки того, что регулярка работает, запишу себя в качестве преподавателя:)"
   ]
  },
  {
   "cell_type": "code",
   "execution_count": 11,
   "metadata": {},
   "outputs": [
    {
     "name": "stdout",
     "output_type": "stream",
     "text": [
      "ФИО полностью\tРоль\tГруппы\tпоток\tyandex.ru\tТелеграм\n",
      "\n",
      "Вознесенская Тамара Васильевна\tЛектор и семинарист\tИАД-1, ИАД-2, ИАД-3\tPython\ttvozn@yandex.ru\t@tvozn\n",
      "\n",
      "Дубнов Юрий Андреевич\tСеминарист\tИАД-4, ИАД-5\tPython\tdubnovya@yandex.ru\t@ydubn\n",
      "\n",
      "Косарев Илья \tСеминарист\tИАД-10\tPython\tilyanapar@yandex.ru\t@purePers\n",
      "\n",
      "Денис Беляков\tСеминарист\tИАД-11, ИАД-12\tPython\tsanityseeker@ya.ru\t@el_loco\n",
      "\n",
      "Крупица Полина Геннадьевна\tУчебный ассистент\tИАД-8\tPython\tp.krupitsa@yandex.ru\t@krupitsaa\n",
      "\n",
      "Довгополый Иоанн Алексеевич\tСеминарист\tИАД-25\tБД\tioanndovgopoliy@yandex.ru\t@TriariiMisha\n",
      "\n",
      "Володин Даниил Александрович\tУчебный ассистент\tИАД-6\t\td.lkem@yandex.ru\t@d_lkem\n",
      "\n",
      "Кононов Алексей Максимович\tУчебный ассистент\tИАД-27\t\talexkonon5041@yandex.ru\t@water_stop\n",
      "\n",
      "Хамрин Роман Евгеньевич\tУчебный ассистент\tИАД-26\t\thamrinroman@yandex.ru\t@roman_khamrin\n",
      "\n",
      "Шерман Ксения Валерьевна\tУчебный ассистент\tИАД-7\t\tshermanksenia@yandex.ru\t@dobroye_ytro\n",
      "\n",
      "Камаева Элина Петровна\tУчебный ассистент\tИАД-5\t\tcamaewa.elina@yandex.ru\t@elinkamaeva\n",
      "\n",
      "Исаев Михаил Валерьевич\tУчебный ассистент\tИАД-12\t\tmichael1509@yandex.ru\t@thomasparovoz\n",
      "\n",
      "Богачева Анна Андреевна\tУчебный ассистент\tИАД-11\t\tannabboga4eva@yandex.ru\t@annjjjk\n",
      "\n",
      "Малкова Ксения Эдуардовна \tУчебный ассистент\tИАД-13\t\tsuper.xu2014@yandex.ru\t@ksu_marshmallow\n",
      "\n",
      "Краснокутская Александра Львовна\tСеминарист\tИАД-9\tPython\tal.krasnokutskaya@yandex.ru\t@alexandrakras\n",
      "\n",
      "Маркин Никита Александрович\tСеминарист\tИАД-6, ИАД-8\tPython\tnmarkin96@yandex.ru\t@NMarkin\n",
      "\n",
      "Шикунова Александра Сергеевна \tУчебный ассистент\tИАД-2\t\tsgessenskaya@yandex.ru\t@thnlgrlivrlvdwsbrnwthrssnhrys\n",
      "\n",
      "Князькова Виктория Игоревна\tУчебный ассистент\tИАД-3\t\tvknyazkova001@yandex.ru\t@vknyazkova\n",
      "\n",
      "Трофименко Илья Александрович  \tУчебный ассистент \twiki\t\ttroila024@yandex.ru\t@lneyronl\n",
      "\n",
      "Богатырева Ирина Сергеевна\tУчебный ассистент\tИАД-4\t\tirishairisha123@yandex.ru\t@isbogatyreva\n",
      "\n",
      "Беким Амир\tУчебный ассистент\tИАД-9\t\tamirkauniverse@yandex.ru\t@amirkauniverse\n",
      "\n",
      "Голубкова Анна Ярославовна \tУчебный ассистент \tИАД-25\t\tanya.golubkova11@yandex.ru\t@anyaa_gl\n",
      "\n",
      "Рустамова Дарина Дмитриевна\tУчебный ассистент\tИАД-29\t\tkiskaper@yandex.ru\t@jndooe\n",
      "\n",
      "Брейман Александр Давидович\tЛектор\tИАД-26\tБД\tadbadb@yandex.ru\t@abreyman\n",
      "\n",
      "Стрельцов Артем Дмитриевич\tСеминарист\tИАД-7\tPython\tkekekekule@yandex.ru\t@in_chainz\n",
      "\n",
      "Червяков Артем Александрович\tУчебный ассистент\tИАД-1\t\tarorlov97@yandex.ru\t@arorlov\n",
      "\n",
      "Смоленчук Иван Константинович\tУчебный ассистент\tИАД-7\t\tivansmolencuk@yandex.ru\t@ongalek\n",
      "\n",
      "Никифоров Михаил Сергеевич\tУчебный ассистент\tИАД-26\t\tnikiforovmusha@yandex.ru\t@caesiummm\n",
      "\n",
      "Лапин Александр Александрович\tУчебный ассистент\tИАД-28\t\tsanek.lapine@yandex.ru\t@sanek_lapin\n",
      "\n",
      "Третьяков Дмитрий Витальевич\tСеминарист\tИАД-13, ИАД-14\tPython\ttfdino@yandex.ru\t@tfdino\n",
      "\n",
      "Сушкевич Лев Алексеевич\tСеминарист\tИАД-27, ИАД-28\tБД\tlevololoev@yandex.ru\t@leviusss\n",
      "\n",
      "Ахременко Анна Андреевна\tСеминарист\tИАД-29\tБД\t\t\n",
      "Камаев Виктор Сергеевич\tУченик\tИАД-12\tvitya.kamaev.03@mail.ru vskamaev@edu.hse.ru vskamaev@hse.ru vskamaev@eduhse.ru vskamaev@hse.com\n"
     ]
    }
   ],
   "source": [
    "text.append('Камаев Виктор Сергеевич\\tУченик\\tИАД-12\\tvitya.kamaev.03@mail.ru vskamaev@edu.hse.ru vskamaev@hse.ru vskamaev@eduhse.ru vskamaev@hse.com')\n",
    "print(*text, sep='\\n')"
   ]
  },
  {
   "cell_type": "markdown",
   "metadata": {},
   "source": [
    "Наконец, проверим и заменим personal emails в тексте на нашу фразу"
   ]
  },
  {
   "cell_type": "code",
   "execution_count": 12,
   "metadata": {},
   "outputs": [
    {
     "name": "stdout",
     "output_type": "stream",
     "text": [
      "ФИО полностью\tРоль\tГруппы\tпоток\tyandex.ru\tТелеграм\n",
      "\n",
      "Вознесенская Тамара Васильевна\tЛектор и семинарист\tИАД-1, ИАД-2, ИАД-3\tPython\tPr1v@cY REstorED\t@tvozn\n",
      "\n",
      "Дубнов Юрий Андреевич\tСеминарист\tИАД-4, ИАД-5\tPython\tPr1v@cY REstorED\t@ydubn\n",
      "\n",
      "Косарев Илья \tСеминарист\tИАД-10\tPython\tPr1v@cY REstorED\t@purePers\n",
      "\n",
      "Денис Беляков\tСеминарист\tИАД-11, ИАД-12\tPython\tPr1v@cY REstorED\t@el_loco\n",
      "\n",
      "Крупица Полина Геннадьевна\tУчебный ассистент\tИАД-8\tPython\tPr1v@cY REstorED\t@krupitsaa\n",
      "\n",
      "Довгополый Иоанн Алексеевич\tСеминарист\tИАД-25\tБД\tPr1v@cY REstorED\t@TriariiMisha\n",
      "\n",
      "Володин Даниил Александрович\tУчебный ассистент\tИАД-6\t\tPr1v@cY REstorED\t@d_lkem\n",
      "\n",
      "Кононов Алексей Максимович\tУчебный ассистент\tИАД-27\t\tPr1v@cY REstorED\t@water_stop\n",
      "\n",
      "Хамрин Роман Евгеньевич\tУчебный ассистент\tИАД-26\t\tPr1v@cY REstorED\t@roman_khamrin\n",
      "\n",
      "Шерман Ксения Валерьевна\tУчебный ассистент\tИАД-7\t\tPr1v@cY REstorED\t@dobroye_ytro\n",
      "\n",
      "Камаева Элина Петровна\tУчебный ассистент\tИАД-5\t\tPr1v@cY REstorED\t@elinkamaeva\n",
      "\n",
      "Исаев Михаил Валерьевич\tУчебный ассистент\tИАД-12\t\tPr1v@cY REstorED\t@thomasparovoz\n",
      "\n",
      "Богачева Анна Андреевна\tУчебный ассистент\tИАД-11\t\tPr1v@cY REstorED\t@annjjjk\n",
      "\n",
      "Малкова Ксения Эдуардовна \tУчебный ассистент\tИАД-13\t\tPr1v@cY REstorED\t@ksu_marshmallow\n",
      "\n",
      "Краснокутская Александра Львовна\tСеминарист\tИАД-9\tPython\tPr1v@cY REstorED\t@alexandrakras\n",
      "\n",
      "Маркин Никита Александрович\tСеминарист\tИАД-6, ИАД-8\tPython\tPr1v@cY REstorED\t@NMarkin\n",
      "\n",
      "Шикунова Александра Сергеевна \tУчебный ассистент\tИАД-2\t\tPr1v@cY REstorED\t@thnlgrlivrlvdwsbrnwthrssnhrys\n",
      "\n",
      "Князькова Виктория Игоревна\tУчебный ассистент\tИАД-3\t\tPr1v@cY REstorED\t@vknyazkova\n",
      "\n",
      "Трофименко Илья Александрович  \tУчебный ассистент \twiki\t\tPr1v@cY REstorED\t@lneyronl\n",
      "\n",
      "Богатырева Ирина Сергеевна\tУчебный ассистент\tИАД-4\t\tPr1v@cY REstorED\t@isbogatyreva\n",
      "\n",
      "Беким Амир\tУчебный ассистент\tИАД-9\t\tPr1v@cY REstorED\t@amirkauniverse\n",
      "\n",
      "Голубкова Анна Ярославовна \tУчебный ассистент \tИАД-25\t\tPr1v@cY REstorED\t@anyaa_gl\n",
      "\n",
      "Рустамова Дарина Дмитриевна\tУчебный ассистент\tИАД-29\t\tPr1v@cY REstorED\t@jndooe\n",
      "\n",
      "Брейман Александр Давидович\tЛектор\tИАД-26\tБД\tPr1v@cY REstorED\t@abreyman\n",
      "\n",
      "Стрельцов Артем Дмитриевич\tСеминарист\tИАД-7\tPython\tPr1v@cY REstorED\t@in_chainz\n",
      "\n",
      "Червяков Артем Александрович\tУчебный ассистент\tИАД-1\t\tPr1v@cY REstorED\t@arorlov\n",
      "\n",
      "Смоленчук Иван Константинович\tУчебный ассистент\tИАД-7\t\tPr1v@cY REstorED\t@ongalek\n",
      "\n",
      "Никифоров Михаил Сергеевич\tУчебный ассистент\tИАД-26\t\tPr1v@cY REstorED\t@caesiummm\n",
      "\n",
      "Лапин Александр Александрович\tУчебный ассистент\tИАД-28\t\tPr1v@cY REstorED\t@sanek_lapin\n",
      "\n",
      "Третьяков Дмитрий Витальевич\tСеминарист\tИАД-13, ИАД-14\tPython\tPr1v@cY REstorED\t@tfdino\n",
      "\n",
      "Сушкевич Лев Алексеевич\tСеминарист\tИАД-27, ИАД-28\tБД\tPr1v@cY REstorED\t@leviusss\n",
      "\n",
      "Ахременко Анна Андреевна\tСеминарист\tИАД-29\tБД\t\t\n",
      "Камаев Виктор Сергеевич\tУченик\tИАД-12\tPr1v@cY REstorED vskamaev@edu.hse.ru vskamaev@hse.ru Pr1v@cY REstorED Pr1v@cY REstorED\n"
     ]
    }
   ],
   "source": [
    "for i in range(len(text)):\n",
    "    text[i] = re.sub(pattern1, 'Pr1v@cY REstorED', text[i])\n",
    "    print(text[i])"
   ]
  },
  {
   "cell_type": "markdown",
   "metadata": {},
   "source": [
    "Все случаи отработали правильно.\n",
    "\n",
    "З.Ы. Так и не разобрался как использовать ssed. Погуглил немного документацию, выполнял команду:\n",
    "\n",
    "`ssed -r \"s|[-A-Za-z0-9_%&'+=?^.]+@(?!(edu.)?hse\\.ru)[-A-Za-z0-9_%&'+=?^.]+\\.[-A-Za-z0-9_%&'+=?^.]+|Pr1v@cY REstorED|g\" table.txt`\n",
    "\n",
    "Но не отрабатывала ни одна почта (регулярка отличается, потому что думал, что замена \\w и удаление некоторых символов-операторов баша поможет, но как бы не так"
   ]
  },
  {
   "cell_type": "markdown",
   "metadata": {},
   "source": []
  }
 ],
 "metadata": {
  "kernelspec": {
   "display_name": "Python 3.10.6 64-bit",
   "language": "python",
   "name": "python3"
  },
  "language_info": {
   "codemirror_mode": {
    "name": "ipython",
    "version": 3
   },
   "file_extension": ".py",
   "mimetype": "text/x-python",
   "name": "python",
   "nbconvert_exporter": "python",
   "pygments_lexer": "ipython3",
   "version": "3.10.6"
  },
  "orig_nbformat": 4,
  "vscode": {
   "interpreter": {
    "hash": "916dbcbb3f70747c44a77c7bcd40155683ae19c65e1c03b4aa3499c5328201f1"
   }
  }
 },
 "nbformat": 4,
 "nbformat_minor": 2
}
