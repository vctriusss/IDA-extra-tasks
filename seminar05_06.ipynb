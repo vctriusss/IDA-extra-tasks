{
  "nbformat": 4,
  "nbformat_minor": 0,
  "metadata": {
    "colab": {
      "provenance": [],
      "collapsed_sections": []
    },
    "kernelspec": {
      "name": "python3",
      "display_name": "Python 3"
    },
    "language_info": {
      "name": "python"
    }
  },
  "cells": [
    {
      "cell_type": "code",
      "execution_count": 3,
      "metadata": {
        "id": "sXBxC4jMZx7A"
      },
      "outputs": [],
      "source": [
        "import requests\n",
        "from functools import lru_cache\n",
        "import time\n",
        "from random import choice"
      ]
    },
    {
      "cell_type": "markdown",
      "source": [
        "Декоратор `@clock` для измерения времени выполнения (взял из семинара)"
      ],
      "metadata": {
        "id": "oFwFTlsS8ItD"
      }
    },
    {
      "cell_type": "code",
      "source": [
        "def clock(func):\n",
        "    def clocked(*args):\n",
        "        t_start = time.time()\n",
        "        res = func(*args)\n",
        "        total_time = time.time() - t_start\n",
        "\n",
        "        print(f'Function executed in {total_time:.3f}s')\n",
        "        return res\n",
        "        \n",
        "    return clocked"
      ],
      "metadata": {
        "id": "9K8JtBsRZ7Qg"
      },
      "execution_count": 2,
      "outputs": []
    },
    {
      "cell_type": "markdown",
      "source": [
        "Для удобства создал декоратор `@history`, который в активном режиме будет хранить историю последних `size` вызовов функции"
      ],
      "metadata": {
        "id": "Yfnibt8hDu0G"
      }
    },
    {
      "cell_type": "code",
      "source": [
        "def history(active=True, size=128):\n",
        "    def decorate(func: callable):\n",
        "        history = [None for _ in range(size)] if active else []\n",
        "        def decorated_function(arg):\n",
        "            res = func(arg)\n",
        "            if active:\n",
        "                history.pop(0)\n",
        "                history.append(arg)\n",
        "\n",
        "                print(f'Last {size} calls:')\n",
        "                for i in range(size - 1, -1, -1):\n",
        "                    print(f'{size - i}) {\"-\" if (history[i] is None) else history[i]}')\n",
        "            return res\n",
        "        return decorated_function\n",
        "    return decorate"
      ],
      "metadata": {
        "id": "WuoWFExSEHA6"
      },
      "execution_count": 4,
      "outputs": []
    },
    {
      "cell_type": "markdown",
      "source": [
        "Теперь создадим основной декоратор `cache_decorator` \\\\\n",
        "`cache_type = 1` - кэширование по методу Least Recently Used (LRU) \\\\\n",
        "`cache_type = 2` - кэширование N последних вызовов\n"
      ],
      "metadata": {
        "id": "kvR7uixl8Ybf"
      }
    },
    {
      "cell_type": "code",
      "source": [
        "def cache_decorator(cache_type, N=None, K=None):\n",
        "    def decorate(func: callable):\n",
        "        if N is None:\n",
        "            return func\n",
        "\n",
        "        last_calls = dict()\n",
        "        max_size = None if N == -1 else N\n",
        "        @history(active=K is not None, size=K)\n",
        "        @lru_cache(maxsize=max_size if cache_type == 1 else 0)\n",
        "        def decorated_function(arg):\n",
        "            if cache_type == 1:\n",
        "                return func(arg)\n",
        "\n",
        "            r = last_calls[arg] if (arg in last_calls) else func(arg)\n",
        "            if len(last_calls) == N and arg not in last_calls:\n",
        "                k = next(iter(last_calls))\n",
        "                last_calls.pop(k)\n",
        "            last_calls[arg] = r\n",
        "            return r\n",
        "\n",
        "        return decorated_function\n",
        "    return decorate"
      ],
      "metadata": {
        "id": "QqD03frwaE4s"
      },
      "execution_count": 6,
      "outputs": []
    },
    {
      "cell_type": "markdown",
      "source": [
        "Протестируем работу созданного декоратора. Создадим список email-ов и будем тестировать работу функции (вызова API с сайта МИЭМ). Данная функция выдает полное ФИО преподавателя по его корпоративной почте. Если же почты не существует, выводит \"Not found\""
      ],
      "metadata": {
        "id": "7sbFB5zVFCY0"
      }
    },
    {
      "cell_type": "code",
      "source": [
        "emails = ['vbashun@miem.hse.ru', 'vminchenkov@hse.ru', 'uq3dtr3rxuq3@hse.ru', 'oevsyutin@hse.ru', 'kzhanashia@hse.ru', 'sartamonov@miem.hse.ru']"
      ],
      "metadata": {
        "id": "C_8oePDhFdTs"
      },
      "execution_count": 7,
      "outputs": []
    },
    {
      "cell_type": "markdown",
      "source": [
        "Сама \"heavy calculations\" функция (пока без декораторов):"
      ],
      "metadata": {
        "id": "-UcQHvgWR5Ew"
      }
    },
    {
      "cell_type": "code",
      "source": [
        "def get_miem_teacher_full_name(email):\n",
        "    time.sleep(1)\n",
        "    name, domain = email.split('@')\n",
        "    r = requests.get(\n",
        "        f'https://devcabinet.miem.vmnet.top/public-api/user/email/{name}%40{domain}')\n",
        "    if r.json()['data'] is None:\n",
        "        return 'Not found'\n",
        "    else:\n",
        "        return r.json()['data']['fullName']"
      ],
      "metadata": {
        "id": "k_gOx4XxRbzx"
      },
      "execution_count": null,
      "outputs": []
    },
    {
      "cell_type": "markdown",
      "source": [
        "Проверять будем для 10 рандомных e-mailов с различными методами кеширования \\\\\n",
        "1) Тестируем для LRU с размером 3 и историей последних 2 вызовов:"
      ],
      "metadata": {
        "id": "NyYK2nuJSE3-"
      }
    },
    {
      "cell_type": "code",
      "source": [
        "@clock\n",
        "@cache_decorator(cache_type=1, N=3, K=2)\n",
        "def get_miem_teacher_full_name(email):\n",
        "    time.sleep(1)\n",
        "    name, domain = email.split('@')\n",
        "    r = requests.get(\n",
        "        f'https://devcabinet.miem.vmnet.top/public-api/user/email/{name}%40{domain}')\n",
        "    if r.json()['data'] is None:\n",
        "        return 'Not found'\n",
        "    else:\n",
        "        return r.json()['data']['fullName']\n",
        "\n",
        "for i in range(10):\n",
        "    print(get_miem_teacher_full_name(choice(emails)))\n",
        "    print()"
      ],
      "metadata": {
        "colab": {
          "base_uri": "https://localhost:8080/"
        },
        "id": "NYfDrDL5SjLm",
        "outputId": "d7a2db22-1139-483d-d501-26b06e0f403a"
      },
      "execution_count": 8,
      "outputs": [
        {
          "output_type": "stream",
          "name": "stdout",
          "text": [
            "Last 2 calls:\n",
            "1) vbashun@miem.hse.ru\n",
            "2) -\n",
            "Function executed in 1.900s\n",
            "Башун Владимир Владимирович\n",
            "\n",
            "Last 2 calls:\n",
            "1) sartamonov@miem.hse.ru\n",
            "2) vbashun@miem.hse.ru\n",
            "Function executed in 1.688s\n",
            "Артамонов Сергей Юрьевич\n",
            "\n",
            "Last 2 calls:\n",
            "1) sartamonov@miem.hse.ru\n",
            "2) sartamonov@miem.hse.ru\n",
            "Function executed in 0.000s\n",
            "Артамонов Сергей Юрьевич\n",
            "\n",
            "Last 2 calls:\n",
            "1) uq3dtr3rxuq3@hse.ru\n",
            "2) sartamonov@miem.hse.ru\n",
            "Function executed in 1.672s\n",
            "Not found\n",
            "\n",
            "Last 2 calls:\n",
            "1) uq3dtr3rxuq3@hse.ru\n",
            "2) uq3dtr3rxuq3@hse.ru\n",
            "Function executed in 0.001s\n",
            "Not found\n",
            "\n",
            "Last 2 calls:\n",
            "1) vbashun@miem.hse.ru\n",
            "2) uq3dtr3rxuq3@hse.ru\n",
            "Function executed in 0.000s\n",
            "Башун Владимир Владимирович\n",
            "\n",
            "Last 2 calls:\n",
            "1) oevsyutin@hse.ru\n",
            "2) vbashun@miem.hse.ru\n",
            "Function executed in 1.677s\n",
            "Евсютин Олег Олегович\n",
            "\n",
            "Last 2 calls:\n",
            "1) vminchenkov@hse.ru\n",
            "2) oevsyutin@hse.ru\n",
            "Function executed in 1.688s\n",
            "Минченков Виктор Олегович\n",
            "\n",
            "Last 2 calls:\n",
            "1) oevsyutin@hse.ru\n",
            "2) vminchenkov@hse.ru\n",
            "Function executed in 0.001s\n",
            "Евсютин Олег Олегович\n",
            "\n",
            "Last 2 calls:\n",
            "1) oevsyutin@hse.ru\n",
            "2) oevsyutin@hse.ru\n",
            "Function executed in 0.000s\n",
            "Евсютин Олег Олегович\n",
            "\n"
          ]
        }
      ]
    },
    {
      "cell_type": "markdown",
      "source": [
        "2) Теперь протестируем, чтобы во 1 не отображалась история при определенном К, а также отсутствовало какое либо кеширование при определенном N (любые запросы выполняются долго вне зависимости от истории прежних вызовов)"
      ],
      "metadata": {
        "id": "R2gkcphKUU2g"
      }
    },
    {
      "cell_type": "code",
      "source": [
        "@clock\n",
        "@cache_decorator(cache_type=1)\n",
        "def get_miem_teacher_full_name(email):\n",
        "    time.sleep(1)\n",
        "    name, domain = email.split('@')\n",
        "    r = requests.get(\n",
        "        f'https://devcabinet.miem.vmnet.top/public-api/user/email/{name}%40{domain}')\n",
        "    if r.json()['data'] is None:\n",
        "        return 'Not found'\n",
        "    else:\n",
        "        return r.json()['data']['fullName']\n",
        "\n",
        "for i in range(10):\n",
        "    print(get_miem_teacher_full_name(choice(emails)))\n",
        "    print()"
      ],
      "metadata": {
        "colab": {
          "base_uri": "https://localhost:8080/"
        },
        "id": "qBm1tV0kUzlm",
        "outputId": "6fb67fd6-f273-4d54-f61b-dec36a76b358"
      },
      "execution_count": 9,
      "outputs": [
        {
          "output_type": "stream",
          "name": "stdout",
          "text": [
            "Function executed in 1.862s\n",
            "Башун Владимир Владимирович\n",
            "\n",
            "Function executed in 1.675s\n",
            "Евсютин Олег Олегович\n",
            "\n",
            "Function executed in 1.714s\n",
            "Башун Владимир Владимирович\n",
            "\n",
            "Function executed in 1.714s\n",
            "Артамонов Сергей Юрьевич\n",
            "\n",
            "Function executed in 1.675s\n",
            "Not found\n",
            "\n",
            "Function executed in 1.673s\n",
            "Башун Владимир Владимирович\n",
            "\n",
            "Function executed in 1.684s\n",
            "Минченков Виктор Олегович\n",
            "\n",
            "Function executed in 1.650s\n",
            "Башун Владимир Владимирович\n",
            "\n",
            "Function executed in 1.693s\n",
            "Евсютин Олег Олегович\n",
            "\n",
            "Function executed in 1.666s\n",
            "Евсютин Олег Олегович\n",
            "\n"
          ]
        }
      ]
    },
    {
      "cell_type": "markdown",
      "source": [
        "Наконец, протестируем кастомное кэширование (только последних N элементов)"
      ],
      "metadata": {
        "id": "IwNqyYKAVa8i"
      }
    },
    {
      "cell_type": "code",
      "source": [
        "@clock\n",
        "@cache_decorator(cache_type=2, N=3, K=3)\n",
        "def get_miem_teacher_full_name(email):\n",
        "    time.sleep(1)\n",
        "    name, domain = email.split('@')\n",
        "    r = requests.get(\n",
        "        f'https://devcabinet.miem.vmnet.top/public-api/user/email/{name}%40{domain}')\n",
        "    if r.json()['data'] is None:\n",
        "        return 'Not found'\n",
        "    else:\n",
        "        return r.json()['data']['fullName']\n",
        "\n",
        "for i in range(10):\n",
        "    print(get_miem_teacher_full_name(choice(emails)))\n",
        "    print()"
      ],
      "metadata": {
        "colab": {
          "base_uri": "https://localhost:8080/"
        },
        "id": "ZyOPNPP7VmLg",
        "outputId": "5e596eb9-9bd0-4028-eb26-75f377b13f60"
      },
      "execution_count": 10,
      "outputs": [
        {
          "output_type": "stream",
          "name": "stdout",
          "text": [
            "Last 3 calls:\n",
            "1) sartamonov@miem.hse.ru\n",
            "2) -\n",
            "3) -\n",
            "Function executed in 1.722s\n",
            "Артамонов Сергей Юрьевич\n",
            "\n",
            "Last 3 calls:\n",
            "1) kzhanashia@hse.ru\n",
            "2) sartamonov@miem.hse.ru\n",
            "3) -\n",
            "Function executed in 1.695s\n",
            "Not found\n",
            "\n",
            "Last 3 calls:\n",
            "1) oevsyutin@hse.ru\n",
            "2) kzhanashia@hse.ru\n",
            "3) sartamonov@miem.hse.ru\n",
            "Function executed in 1.679s\n",
            "Евсютин Олег Олегович\n",
            "\n",
            "Last 3 calls:\n",
            "1) uq3dtr3rxuq3@hse.ru\n",
            "2) oevsyutin@hse.ru\n",
            "3) kzhanashia@hse.ru\n",
            "Function executed in 1.676s\n",
            "Not found\n",
            "\n",
            "Last 3 calls:\n",
            "1) sartamonov@miem.hse.ru\n",
            "2) uq3dtr3rxuq3@hse.ru\n",
            "3) oevsyutin@hse.ru\n",
            "Function executed in 1.730s\n",
            "Артамонов Сергей Юрьевич\n",
            "\n",
            "Last 3 calls:\n",
            "1) sartamonov@miem.hse.ru\n",
            "2) sartamonov@miem.hse.ru\n",
            "3) uq3dtr3rxuq3@hse.ru\n",
            "Function executed in 0.000s\n",
            "Артамонов Сергей Юрьевич\n",
            "\n",
            "Last 3 calls:\n",
            "1) oevsyutin@hse.ru\n",
            "2) sartamonov@miem.hse.ru\n",
            "3) sartamonov@miem.hse.ru\n",
            "Function executed in 0.000s\n",
            "Евсютин Олег Олегович\n",
            "\n",
            "Last 3 calls:\n",
            "1) sartamonov@miem.hse.ru\n",
            "2) oevsyutin@hse.ru\n",
            "3) sartamonov@miem.hse.ru\n",
            "Function executed in 0.000s\n",
            "Артамонов Сергей Юрьевич\n",
            "\n",
            "Last 3 calls:\n",
            "1) kzhanashia@hse.ru\n",
            "2) sartamonov@miem.hse.ru\n",
            "3) oevsyutin@hse.ru\n",
            "Function executed in 1.673s\n",
            "Not found\n",
            "\n",
            "Last 3 calls:\n",
            "1) sartamonov@miem.hse.ru\n",
            "2) kzhanashia@hse.ru\n",
            "3) sartamonov@miem.hse.ru\n",
            "Function executed in 0.000s\n",
            "Артамонов Сергей Юрьевич\n",
            "\n"
          ]
        }
      ]
    },
    {
      "cell_type": "markdown",
      "source": [
        "Как мы видим, все работает правильно!"
      ],
      "metadata": {
        "id": "Wr_nOX7KVyH7"
      }
    }
  ]
}